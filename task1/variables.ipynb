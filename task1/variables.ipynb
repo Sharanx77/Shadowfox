{
 "cells": [
  {
   "cell_type": "code",
   "execution_count": null,
   "id": "51dc39cb",
   "metadata": {},
   "outputs": [
    {
     "name": "stdout",
     "output_type": "stream",
     "text": [
      "<class 'float'>\n"
     ]
    }
   ],
   "source": [
    "# Block 1: Defines pi as 22 divided by 7 and prints its data type.\n",
    "pi=22/7\n",
    "print(type(pi))"
   ]
  },
  {
   "cell_type": "code",
   "execution_count": null,
   "id": "1add9ab2",
   "metadata": {},
   "outputs": [
    {
     "ename": "SyntaxError",
     "evalue": "invalid syntax (1865913465.py, line 1)",
     "output_type": "error",
     "traceback": [
      "\u001b[1;36m  Cell \u001b[1;32mIn[1], line 1\u001b[1;36m\u001b[0m\n\u001b[1;33m    for=4\u001b[0m\n\u001b[1;37m       ^\u001b[0m\n\u001b[1;31mSyntaxError\u001b[0m\u001b[1;31m:\u001b[0m invalid syntax\n"
     ]
    }
   ],
   "source": [
    "for=4 \n",
    "#it gives error because it is not a valid variable name as it is a keyword"
   ]
  },
  {
   "cell_type": "code",
   "execution_count": null,
   "id": "be7884d6",
   "metadata": {},
   "outputs": [
    {
     "name": "stdout",
     "output_type": "stream",
     "text": [
      "simple insterest is 840.0\n"
     ]
    }
   ],
   "source": [
    "# Block 3: Calculates simple interest using the formula (principal * time * rate) / 100 and prints the result.\n",
    "p=10000\n",
    "r=4.2\n",
    "t=2\n",
    "si=(p*t*r)/100\n",
    "print(\"simple insterest is\",si)\n"
   ]
  }
 ],
 "metadata": {
  "kernelspec": {
   "display_name": "Python 3",
   "language": "python",
   "name": "python3"
  },
  "language_info": {
   "codemirror_mode": {
    "name": "ipython",
    "version": 3
   },
   "file_extension": ".py",
   "mimetype": "text/x-python",
   "name": "python",
   "nbconvert_exporter": "python",
   "pygments_lexer": "ipython3",
   "version": "3.13.7"
  }
 },
 "nbformat": 4,
 "nbformat_minor": 5
}
