{
 "cells": [
  {
   "cell_type": "code",
   "execution_count": null,
   "id": "81bb026b",
   "metadata": {},
   "outputs": [
    {
     "name": "stdout",
     "output_type": "stream",
     "text": [
      "My total expenses: 871000\n",
      "My partner's total expenses: 555150\n",
      "I spent more than my partner.\n",
      "\n",
      "Significant differences in expenses:\n",
      "Attractions: Difference = 300000\n"
     ]
    }
   ],
   "source": [
    "#Compares expenses between you and your partner, calculates totals, \n",
    "# checks who spent more, and finds categories with significant differences.\n",
    "my_expenses = {\"Hotel\": 10000,\"Food\": 6000,\"Transportation\": 50000,\"Attractions\": 800000,\"Miscellaneous\": 5000}\n",
    "my_partner_expenses = {\"Hotel\": 10000,\"Food\": 5000,\"Transportation\": 40000,\"Attractions\": 500000,\"Miscellaneous\": 150}\n",
    "my_total=my_expenses.values()\n",
    "my_partner_total=my_partner_expenses.values()\n",
    "def total_expenses(expenses):\n",
    "    total=0\n",
    "    for value in expenses:\n",
    "        total+=value\n",
    "    return total\n",
    "my_total_expenses=total_expenses(my_total)\n",
    "my_partner_total_expenses=total_expenses(my_partner_total)\n",
    "print(\"My total expenses:\", my_total_expenses)\n",
    "print(\"My partner's total expenses:\", my_partner_total_expenses)\n",
    "if my_total_expenses > my_partner_total_expenses:\n",
    "    print(\"I spent more than my partner.\")\n",
    "elif my_total_expenses < my_partner_total_expenses:\n",
    "    print(\"My partner spent more than me.\")\n",
    "else:\n",
    "    print(\"We spent the same amount.\")\n",
    "threshold = 100000\n",
    "print(\"\\nSignificant differences in expenses:\")\n",
    "for key in my_expenses:\n",
    "    diff = abs(my_expenses[key] - my_partner_expenses.get(key, 0))\n",
    "    if diff > threshold:\n",
    "        print(f\"{key}: Difference = {diff}\")"
   ]
  },
  {
   "cell_type": "code",
   "execution_count": null,
   "id": "14fad52c",
   "metadata": {},
   "outputs": [
    {
     "name": "stdout",
     "output_type": "stream",
     "text": [
      "list of names with their length: [('Sagar', 5), ('prajwal', 7), ('shivu', 5), ('santosh', 7), ('siri', 4), ('anushree', 8), ('vinay', 5), ('undi himavardini', 16), ('ankita', 6), ('veeresh', 7)]\n"
     ]
    }
   ],
   "source": [
    "#Creates a list of names and makes a new list with each name and its length.\n",
    "names=[\"Sagar\",\"prajwal\",\"shivu\",\"santosh\",\"siri\",\"anushree\",\"vinay\",\"undi himavardini\",\"ankita\",\"veeresh\"]\n",
    "names_with_there_length=[]\n",
    "for name in names:\n",
    "    n=len(name)\n",
    "    names_with_there_length.append((name,n))\n",
    "print(\"list of names with their length:\", names_with_there_length)"
   ]
  }
 ],
 "metadata": {
  "kernelspec": {
   "display_name": "Python 3",
   "language": "python",
   "name": "python3"
  },
  "language_info": {
   "codemirror_mode": {
    "name": "ipython",
    "version": 3
   },
   "file_extension": ".py",
   "mimetype": "text/x-python",
   "name": "python",
   "nbconvert_exporter": "python",
   "pygments_lexer": "ipython3",
   "version": "3.13.7"
  }
 },
 "nbformat": 4,
 "nbformat_minor": 5
}
