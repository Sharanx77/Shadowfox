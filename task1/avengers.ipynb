{
 "cells": [
  {
   "cell_type": "code",
   "execution_count": 2,
   "id": "be5a6524",
   "metadata": {},
   "outputs": [
    {
     "name": "stdout",
     "output_type": "stream",
     "text": [
      "Avengers Information:\n",
      "Captain America: {'name': 'Steve Rogers', 'age': 100, 'gender': 'male', 'super_power': 'super strength', 'weapon': 'shield'}\n",
      "Iron man: {'name': 'Tony Stark', 'age': '50', 'gender': 'male', 'super_power': 'technology', 'weapon': 'armor'}\n",
      "Black Widow: {'name': 'Natasha Romanoff', 'age': '22', 'gender': 'female', 'super_power': 'super woman', 'weapon': 'batons'}\n",
      "Hulk: {'name': 'Bruce Banner', 'age': '55', 'gender': 'male', 'super_power': 'unlimited strength', 'weapon': 'none'}\n",
      "Thor: {'name': 'Thor Odinson', 'age': '1000', 'gender': 'male', 'super_power': 'super energy', 'weapon': 'Mjölnir'}\n",
      "Hawkeye: {'name': 'Clint Barton', 'age': '35', 'gender': 'male', 'super_power': 'fighting skills ', 'weapon': 'bow and arrow'}\n",
      "Leader of Avengers:\n"
     ]
    },
    {
     "name": "stdout",
     "output_type": "stream",
     "text": [
      " is not the leader of avengers\n"
     ]
    }
   ],
   "source": [
    "# This code defines an Avengers class with information about each member.\n",
    "# It provides methods to get details of each Avenger and to check who is the leader based on user input.\n",
    "\n",
    "class avengers: # [\"Captain  America\",  \"Iron  Man\",  \"Black  Widow\",  \"Hulk\",\"Thor\", \"Hawkeye\"]\n",
    "    captain_america={\"name\":\"Steve Rogers\", \"age\":100,\"gender\":\"male\", \"super_power\":\"super strength\",\"weapon\":\"shield\"}\n",
    "    iron_man={\"name\":\"Tony Stark\", \"age\":\"50\",\"gender\":\"male\",\"super_power\":\"technology\",\"weapon\":\"armor\"}\n",
    "    black_widow={\"name\":\"Natasha Romanoff\", \"age\":\"22\",\"gender\":\"female\",\"super_power\":\"super woman\",\"weapon\":\"batons\"}\n",
    "    hulk={\"name\":\"Bruce Banner\", \"age\":\"55\",\"gender\":\"male\",\"super_power\":\"unlimited strength\",\"weapon\":\"none\"}\n",
    "    thor={\"name\":\"Thor Odinson\", \"age\":\"1000\",\"gender\":\"male\",\"super_power\":\"super energy\",\"weapon\":\"Mjölnir\"}\n",
    "    hawkeye={\"name\":\"Clint Barton\", \"age\":\"35\",\"gender\":\"male\",\"super_power\":\"fighting skills \",\"weapon\":\"bow and arrow\"} \n",
    "\n",
    "    def captain_america_info(self):\n",
    "        return self.captain_america\n",
    "\n",
    "    def iron_man_info(self):\n",
    "        return self.iron_man    \n",
    "    \n",
    "    def black_widow_info(self):\n",
    "        return self.black_widow\n",
    "    \n",
    "    def hulk_info(self):\n",
    "        return self.hulk\n",
    "    \n",
    "    def thor_info(self):\n",
    "        return self.thor\n",
    "    \n",
    "    def hawkeye_info(self):\n",
    "        return self.hawkeye\n",
    "    \n",
    "    def leader(self, leader_name):\n",
    "        if leader_name ==\"captain america\":\n",
    "            print(\"captain america is the leader of avengers\")\n",
    "        else:\n",
    "            print(f\"{leader_name} is not the leader of avengers\")\n",
    "\n",
    "print(\"Avengers Information:\")\n",
    "avengers_instance = avengers() \n",
    "print(\"Captain America:\", avengers_instance.captain_america_info())\n",
    "print(\"Iron man:\", avengers_instance.iron_man_info())\n",
    "print(\"Black Widow:\", avengers_instance.black_widow_info())\n",
    "print(\"Hulk:\", avengers_instance.hulk_info())\n",
    "print(\"Thor:\", avengers_instance.thor_info())\n",
    "print(\"Hawkeye:\", avengers_instance.hawkeye_info())\n",
    "print(\"Leader of Avengers:\")\n",
    "leader_name = input(\"Enter the name of the leader: \")\n",
    "avengers_instance.leader(leader_name.lower())\n"
   ]
  }
 ],
 "metadata": {
  "kernelspec": {
   "display_name": "Python 3",
   "language": "python",
   "name": "python3"
  },
  "language_info": {
   "codemirror_mode": {
    "name": "ipython",
    "version": 3
   },
   "file_extension": ".py",
   "mimetype": "text/x-python",
   "name": "python",
   "nbconvert_exporter": "python",
   "pygments_lexer": "ipython3",
   "version": "3.13.7"
  }
 },
 "nbformat": 4,
 "nbformat_minor": 5
}
