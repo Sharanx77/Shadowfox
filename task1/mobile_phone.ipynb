{
 "cells": [
  {
   "cell_type": "code",
   "execution_count": null,
   "id": "fef89bd7",
   "metadata": {},
   "outputs": [
    {
     "name": "stdout",
     "output_type": "stream",
     "text": [
      "Calling 9876543210...\n",
      "Taking a picture with 12MP front camera.\n",
      "iPhone 12 using Face ID to unlock.\n",
      "Receiving call from Mom...\n",
      "Taking a picture with 48MP rear camera.\n",
      "Galaxy S21 using fingerprint sensor to unlock.\n"
     ]
    }
   ],
   "source": [
    "# This code defines a base class for mobile phones and two subclasses for Apple and Samsung phones.\n",
    "# It shows how to create phone objects, use their features, and demonstrates inheritance and method overriding.\n",
    "class MobilePhone:\n",
    "    def __init__(self, screen_type, network_type, dual_sim, front_camera, rear_camera, ram, storage):\n",
    "        self.screen_type = screen_type\n",
    "        self.network_type = network_type\n",
    "        self.dual_sim = dual_sim\n",
    "        self.front_camera = front_camera\n",
    "        self.rear_camera = rear_camera\n",
    "        self.ram = ram\n",
    "        self.storage = storage\n",
    "    def make_call(self, number):\n",
    "        print(f\"Calling {number}...\")\n",
    "    def receive_call(self, caller):\n",
    "        print(f\"Receiving call from {caller}...\")\n",
    "    def take_a_picture(self, camera='rear'):\n",
    "        if camera == 'front':\n",
    "            print(f\"Taking a picture with {self.front_camera} front camera.\")\n",
    "        else:\n",
    "            print(f\"Taking a picture with {self.rear_camera} rear camera.\")\n",
    "class Apple(MobilePhone):\n",
    "    def __init__(self, model, screen_type, network_type, dual_sim, front_camera, rear_camera, ram, storage):\n",
    "        super().__init__(screen_type, network_type, dual_sim, front_camera, rear_camera, ram, storage)\n",
    "        self.brand = \"Apple\"\n",
    "        self.model = model\n",
    "    def use_face_id(self):\n",
    "        print(f\"{self.model} using Face ID to unlock.\")\n",
    "class Samsung(MobilePhone):\n",
    "    def __init__(self, model, screen_type, network_type, dual_sim, front_camera, rear_camera, ram, storage):\n",
    "        super().__init__(screen_type, network_type, dual_sim, front_camera, rear_camera, ram, storage)\n",
    "        self.brand = \"Samsung\"\n",
    "        self.model = model\n",
    "    def use_fingerprint(self):\n",
    "        print(f\"{self.model} using fingerprint sensor to unlock.\")\n",
    "iphone_12 = Apple(\"iPhone 12\", \"Touch Screen\", \"5G\", False, \"12MP\", \"48MP\", \"4GB\", \"64GB\")\n",
    "iphone_se = Apple(\"iPhone SE\", \"Touch Screen\", \"4G\", False, \"8MP\", \"12MP\", \"3GB\", \"32GB\")\n",
    "galaxy_s21 = Samsung(\"Galaxy S21\", \"Touch Screen\", \"5G\", True, \"16MP\", \"48MP\", \"4GB\", \"64GB\")\n",
    "galaxy_a10 = Samsung(\"Galaxy A10\", \"Touch Screen\", \"4G\", True, \"5MP\", \"8MP\", \"2GB\", \"16GB\")\n",
    "iphone_12.make_call(\"9876543210\")\n",
    "iphone_12.take_a_picture(\"front\")\n",
    "iphone_12.use_face_id()\n",
    "galaxy_s21.receive_call(\"Mom\")\n",
    "galaxy_s21.take_a_picture(\"rear\")\n",
    "galaxy_s21.use_fingerprint()"
   ]
  }
 ],
 "metadata": {
  "kernelspec": {
   "display_name": "Python 3",
   "language": "python",
   "name": "python3"
  },
  "language_info": {
   "codemirror_mode": {
    "name": "ipython",
    "version": 3
   },
   "file_extension": ".py",
   "mimetype": "text/x-python",
   "name": "python",
   "nbconvert_exporter": "python",
   "pygments_lexer": "ipython3",
   "version": "3.13.7"
  }
 },
 "nbformat": 4,
 "nbformat_minor": 5
}
