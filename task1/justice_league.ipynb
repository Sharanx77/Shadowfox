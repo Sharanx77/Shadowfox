{
 "cells": [
  {
   "cell_type": "code",
   "execution_count": null,
   "id": "5e1f5e61",
   "metadata": {},
   "outputs": [
    {
     "name": "stdout",
     "output_type": "stream",
     "text": [
      "number of Justice League Members: 6\n",
      "['Superman', 'Batman', 'WonderWoman', 'Flash', 'Aquaman', 'Green Lantern']\n",
      "Updated Justice League Members: ['Superman', 'Batman', 'WonderWoman', 'Flash', 'Aquaman', 'Green Lantern', 'batgirl', 'nightwing']\n",
      "Wonder woman is the leader of justice league: ['WonderWoman', 'Superman', 'Batman', 'Flash', 'Aquaman', 'Green Lantern', 'batgirl', 'nightwing']\n",
      "moved superman between aquaman and flash: ['WonderWoman', 'Batman', 'Flash', 'Superman', 'Aquaman', 'Green Lantern', 'batgirl', 'nightwing']\n",
      "New Justice League Team: ['Cyborg', 'Shazam', 'Hawkgirl', 'MartianManhunter', 'Green Arrow']\n",
      "Sorted Justice League Team: ['Cyborg', 'Green Arrow', 'Hawkgirl', 'MartianManhunter', 'Shazam']\n",
      "Leader of the new Justice League Team: Cyborg\n"
     ]
    }
   ],
   "source": [
    "# This code manages a list of Justice League members.\n",
    "# It starts with an initial team, adds new members, changes the leader, moves members to different positions,\n",
    "# replaces the team with new members, sorts the list alphabetically, and finally prints the leader of the new team.\n",
    "justice_league = [\"Superman\", \"Batman\", \"WonderWoman\", \"Flash\", \"Aquaman\", \"Green Lantern\"]\n",
    "n=len(justice_league)\n",
    "print(\"number of Justice League Members:\",n)\n",
    "print(justice_league)\n",
    "new_people=[\"batgirl\",\"nightwing\"]\n",
    "justice_league.extend(new_people)\n",
    "print(\"Updated Justice League Members:\", justice_league)\n",
    "leader=justice_league.pop(2)\n",
    "justice_league.insert(0, leader)\n",
    "print(\"Wonder woman is the leader of justice league:\", justice_league)\n",
    "man=justice_league.pop(1)\n",
    "justice_league.insert(3,man)\n",
    "print(\"moved superman between aquaman and flash:\", justice_league)\n",
    "new_team=[\"Cyborg\", \"Shazam\", \"Hawkgirl\", \"MartianManhunter\", \"Green Arrow\"]\n",
    "justice_league.clear()\n",
    "justice_league.extend(new_team)\n",
    "print(\"New Justice League Team:\", justice_league)\n",
    "justice_league.sort()\n",
    "print(\"Sorted Justice League Team:\", justice_league)\n",
    "leader=justice_league[0]\n",
    "print(\"Leader of the new Justice League Team:\", leader)"
   ]
  }
 ],
 "metadata": {
  "kernelspec": {
   "display_name": "Python 3",
   "language": "python",
   "name": "python3"
  },
  "language_info": {
   "codemirror_mode": {
    "name": "ipython",
    "version": 3
   },
   "file_extension": ".py",
   "mimetype": "text/x-python",
   "name": "python",
   "nbconvert_exporter": "python",
   "pygments_lexer": "ipython3",
   "version": "3.13.7"
  }
 },
 "nbformat": 4,
 "nbformat_minor": 5
}
